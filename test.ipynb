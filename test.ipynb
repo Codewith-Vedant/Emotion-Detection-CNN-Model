{
 "cells": [
  {
   "cell_type": "code",
   "execution_count": 66,
   "id": "4f9b8332-3804-444d-8c2e-465a3601562b",
   "metadata": {},
   "outputs": [
    {
     "name": "stdout",
     "output_type": "stream",
     "text": [
      "Requirement already satisfied: opencv-python in c:\\users\\vspil\\anaconda3\\envs\\env\\lib\\site-packages (4.9.0.80)\n",
      "Requirement already satisfied: numpy>=1.21.2 in c:\\users\\vspil\\anaconda3\\envs\\env\\lib\\site-packages (from opencv-python) (1.26.2)\n"
     ]
    }
   ],
   "source": [
    "!pip install opencv-python"
   ]
  },
  {
   "cell_type": "code",
   "execution_count": 67,
   "id": "5072b861-7ada-4f8e-9d4b-bd76c4729041",
   "metadata": {
    "scrolled": true
   },
   "outputs": [
    {
     "name": "stdout",
     "output_type": "stream",
     "text": [
      "Requirement already satisfied: numpy in c:\\users\\vspil\\anaconda3\\envs\\env\\lib\\site-packages (1.26.2)\n"
     ]
    }
   ],
   "source": [
    "!pip install numpy"
   ]
  },
  {
   "cell_type": "code",
   "execution_count": 68,
   "id": "ac108ad1-fac3-4e9b-b862-cf85cfdc456b",
   "metadata": {},
   "outputs": [
    {
     "name": "stdout",
     "output_type": "stream",
     "text": [
      "Requirement already satisfied: tensorflow==2.15.0 in c:\\users\\vspil\\anaconda3\\envs\\env\\lib\\site-packages (2.15.0)\n",
      "Requirement already satisfied: tensorflow-intel==2.15.0 in c:\\users\\vspil\\anaconda3\\envs\\env\\lib\\site-packages (from tensorflow==2.15.0) (2.15.0)\n",
      "Requirement already satisfied: absl-py>=1.0.0 in c:\\users\\vspil\\anaconda3\\envs\\env\\lib\\site-packages (from tensorflow-intel==2.15.0->tensorflow==2.15.0) (2.1.0)\n",
      "Requirement already satisfied: astunparse>=1.6.0 in c:\\users\\vspil\\anaconda3\\envs\\env\\lib\\site-packages (from tensorflow-intel==2.15.0->tensorflow==2.15.0) (1.6.3)\n",
      "Requirement already satisfied: flatbuffers>=23.5.26 in c:\\users\\vspil\\anaconda3\\envs\\env\\lib\\site-packages (from tensorflow-intel==2.15.0->tensorflow==2.15.0) (24.3.25)\n",
      "Requirement already satisfied: gast!=0.5.0,!=0.5.1,!=0.5.2,>=0.2.1 in c:\\users\\vspil\\anaconda3\\envs\\env\\lib\\site-packages (from tensorflow-intel==2.15.0->tensorflow==2.15.0) (0.5.4)\n",
      "Requirement already satisfied: google-pasta>=0.1.1 in c:\\users\\vspil\\anaconda3\\envs\\env\\lib\\site-packages (from tensorflow-intel==2.15.0->tensorflow==2.15.0) (0.2.0)\n",
      "Requirement already satisfied: h5py>=2.9.0 in c:\\users\\vspil\\anaconda3\\envs\\env\\lib\\site-packages (from tensorflow-intel==2.15.0->tensorflow==2.15.0) (3.10.0)\n",
      "Requirement already satisfied: libclang>=13.0.0 in c:\\users\\vspil\\anaconda3\\envs\\env\\lib\\site-packages (from tensorflow-intel==2.15.0->tensorflow==2.15.0) (18.1.1)\n",
      "Requirement already satisfied: ml-dtypes~=0.2.0 in c:\\users\\vspil\\anaconda3\\envs\\env\\lib\\site-packages (from tensorflow-intel==2.15.0->tensorflow==2.15.0) (0.2.0)\n",
      "Requirement already satisfied: numpy<2.0.0,>=1.23.5 in c:\\users\\vspil\\anaconda3\\envs\\env\\lib\\site-packages (from tensorflow-intel==2.15.0->tensorflow==2.15.0) (1.26.2)\n",
      "Requirement already satisfied: opt-einsum>=2.3.2 in c:\\users\\vspil\\anaconda3\\envs\\env\\lib\\site-packages (from tensorflow-intel==2.15.0->tensorflow==2.15.0) (3.3.0)\n",
      "Requirement already satisfied: packaging in c:\\users\\vspil\\anaconda3\\envs\\env\\lib\\site-packages (from tensorflow-intel==2.15.0->tensorflow==2.15.0) (23.1)\n",
      "Requirement already satisfied: protobuf!=4.21.0,!=4.21.1,!=4.21.2,!=4.21.3,!=4.21.4,!=4.21.5,<5.0.0dev,>=3.20.3 in c:\\users\\vspil\\anaconda3\\envs\\env\\lib\\site-packages (from tensorflow-intel==2.15.0->tensorflow==2.15.0) (4.25.3)\n",
      "Requirement already satisfied: setuptools in c:\\users\\vspil\\anaconda3\\envs\\env\\lib\\site-packages (from tensorflow-intel==2.15.0->tensorflow==2.15.0) (68.2.2)\n",
      "Requirement already satisfied: six>=1.12.0 in c:\\users\\vspil\\anaconda3\\envs\\env\\lib\\site-packages (from tensorflow-intel==2.15.0->tensorflow==2.15.0) (1.16.0)\n",
      "Requirement already satisfied: termcolor>=1.1.0 in c:\\users\\vspil\\anaconda3\\envs\\env\\lib\\site-packages (from tensorflow-intel==2.15.0->tensorflow==2.15.0) (2.4.0)\n",
      "Requirement already satisfied: typing-extensions>=3.6.6 in c:\\users\\vspil\\anaconda3\\envs\\env\\lib\\site-packages (from tensorflow-intel==2.15.0->tensorflow==2.15.0) (4.7.1)\n",
      "Requirement already satisfied: wrapt<1.15,>=1.11.0 in c:\\users\\vspil\\anaconda3\\envs\\env\\lib\\site-packages (from tensorflow-intel==2.15.0->tensorflow==2.15.0) (1.14.1)\n",
      "Requirement already satisfied: tensorflow-io-gcs-filesystem>=0.23.1 in c:\\users\\vspil\\anaconda3\\envs\\env\\lib\\site-packages (from tensorflow-intel==2.15.0->tensorflow==2.15.0) (0.31.0)\n",
      "Requirement already satisfied: grpcio<2.0,>=1.24.3 in c:\\users\\vspil\\anaconda3\\envs\\env\\lib\\site-packages (from tensorflow-intel==2.15.0->tensorflow==2.15.0) (1.62.1)\n",
      "Requirement already satisfied: tensorboard<2.16,>=2.15 in c:\\users\\vspil\\anaconda3\\envs\\env\\lib\\site-packages (from tensorflow-intel==2.15.0->tensorflow==2.15.0) (2.15.2)\n",
      "Requirement already satisfied: tensorflow-estimator<2.16,>=2.15.0 in c:\\users\\vspil\\anaconda3\\envs\\env\\lib\\site-packages (from tensorflow-intel==2.15.0->tensorflow==2.15.0) (2.15.0)\n",
      "Requirement already satisfied: keras<2.16,>=2.15.0 in c:\\users\\vspil\\anaconda3\\envs\\env\\lib\\site-packages (from tensorflow-intel==2.15.0->tensorflow==2.15.0) (2.15.0)\n",
      "Requirement already satisfied: wheel<1.0,>=0.23.0 in c:\\users\\vspil\\anaconda3\\envs\\env\\lib\\site-packages (from astunparse>=1.6.0->tensorflow-intel==2.15.0->tensorflow==2.15.0) (0.41.2)\n",
      "Requirement already satisfied: google-auth<3,>=1.6.3 in c:\\users\\vspil\\anaconda3\\envs\\env\\lib\\site-packages (from tensorboard<2.16,>=2.15->tensorflow-intel==2.15.0->tensorflow==2.15.0) (2.29.0)\n",
      "Requirement already satisfied: google-auth-oauthlib<2,>=0.5 in c:\\users\\vspil\\anaconda3\\envs\\env\\lib\\site-packages (from tensorboard<2.16,>=2.15->tensorflow-intel==2.15.0->tensorflow==2.15.0) (1.2.0)\n",
      "Requirement already satisfied: markdown>=2.6.8 in c:\\users\\vspil\\anaconda3\\envs\\env\\lib\\site-packages (from tensorboard<2.16,>=2.15->tensorflow-intel==2.15.0->tensorflow==2.15.0) (3.6)\n",
      "Requirement already satisfied: requests<3,>=2.21.0 in c:\\users\\vspil\\anaconda3\\envs\\env\\lib\\site-packages (from tensorboard<2.16,>=2.15->tensorflow-intel==2.15.0->tensorflow==2.15.0) (2.31.0)\n",
      "Requirement already satisfied: tensorboard-data-server<0.8.0,>=0.7.0 in c:\\users\\vspil\\anaconda3\\envs\\env\\lib\\site-packages (from tensorboard<2.16,>=2.15->tensorflow-intel==2.15.0->tensorflow==2.15.0) (0.7.2)\n",
      "Requirement already satisfied: werkzeug>=1.0.1 in c:\\users\\vspil\\anaconda3\\envs\\env\\lib\\site-packages (from tensorboard<2.16,>=2.15->tensorflow-intel==2.15.0->tensorflow==2.15.0) (3.0.2)\n",
      "Requirement already satisfied: cachetools<6.0,>=2.0.0 in c:\\users\\vspil\\anaconda3\\envs\\env\\lib\\site-packages (from google-auth<3,>=1.6.3->tensorboard<2.16,>=2.15->tensorflow-intel==2.15.0->tensorflow==2.15.0) (5.3.3)\n",
      "Requirement already satisfied: pyasn1-modules>=0.2.1 in c:\\users\\vspil\\anaconda3\\envs\\env\\lib\\site-packages (from google-auth<3,>=1.6.3->tensorboard<2.16,>=2.15->tensorflow-intel==2.15.0->tensorflow==2.15.0) (0.4.0)\n",
      "Requirement already satisfied: rsa<5,>=3.1.4 in c:\\users\\vspil\\anaconda3\\envs\\env\\lib\\site-packages (from google-auth<3,>=1.6.3->tensorboard<2.16,>=2.15->tensorflow-intel==2.15.0->tensorflow==2.15.0) (4.9)\n",
      "Requirement already satisfied: requests-oauthlib>=0.7.0 in c:\\users\\vspil\\anaconda3\\envs\\env\\lib\\site-packages (from google-auth-oauthlib<2,>=0.5->tensorboard<2.16,>=2.15->tensorflow-intel==2.15.0->tensorflow==2.15.0) (2.0.0)\n",
      "Requirement already satisfied: charset-normalizer<4,>=2 in c:\\users\\vspil\\anaconda3\\envs\\env\\lib\\site-packages (from requests<3,>=2.21.0->tensorboard<2.16,>=2.15->tensorflow-intel==2.15.0->tensorflow==2.15.0) (2.0.4)\n",
      "Requirement already satisfied: idna<4,>=2.5 in c:\\users\\vspil\\anaconda3\\envs\\env\\lib\\site-packages (from requests<3,>=2.21.0->tensorboard<2.16,>=2.15->tensorflow-intel==2.15.0->tensorflow==2.15.0) (3.4)\n",
      "Requirement already satisfied: urllib3<3,>=1.21.1 in c:\\users\\vspil\\anaconda3\\envs\\env\\lib\\site-packages (from requests<3,>=2.21.0->tensorboard<2.16,>=2.15->tensorflow-intel==2.15.0->tensorflow==2.15.0) (1.26.18)\n",
      "Requirement already satisfied: certifi>=2017.4.17 in c:\\users\\vspil\\anaconda3\\envs\\env\\lib\\site-packages (from requests<3,>=2.21.0->tensorboard<2.16,>=2.15->tensorflow-intel==2.15.0->tensorflow==2.15.0) (2023.11.17)\n",
      "Requirement already satisfied: MarkupSafe>=2.1.1 in c:\\users\\vspil\\anaconda3\\envs\\env\\lib\\site-packages (from werkzeug>=1.0.1->tensorboard<2.16,>=2.15->tensorflow-intel==2.15.0->tensorflow==2.15.0) (2.1.1)\n",
      "Requirement already satisfied: pyasn1<0.7.0,>=0.4.6 in c:\\users\\vspil\\anaconda3\\envs\\env\\lib\\site-packages (from pyasn1-modules>=0.2.1->google-auth<3,>=1.6.3->tensorboard<2.16,>=2.15->tensorflow-intel==2.15.0->tensorflow==2.15.0) (0.6.0)\n",
      "Requirement already satisfied: oauthlib>=3.0.0 in c:\\users\\vspil\\anaconda3\\envs\\env\\lib\\site-packages (from requests-oauthlib>=0.7.0->google-auth-oauthlib<2,>=0.5->tensorboard<2.16,>=2.15->tensorflow-intel==2.15.0->tensorflow==2.15.0) (3.2.2)\n"
     ]
    }
   ],
   "source": [
    "!pip install tensorflow==2.15.0"
   ]
  },
  {
   "cell_type": "code",
   "execution_count": 69,
   "id": "670f2fcd-827a-4210-8dac-3637ec374722",
   "metadata": {},
   "outputs": [
    {
     "name": "stdout",
     "output_type": "stream",
     "text": [
      "Requirement already satisfied: keras==2.15.0 in c:\\users\\vspil\\anaconda3\\envs\\env\\lib\\site-packages (2.15.0)\n"
     ]
    }
   ],
   "source": [
    "!pip install keras==2.15.0"
   ]
  },
  {
   "cell_type": "code",
   "execution_count": null,
   "id": "030778c7-ea0f-4f2e-883d-821630c2d634",
   "metadata": {},
   "outputs": [],
   "source": []
  },
  {
   "cell_type": "code",
   "execution_count": 70,
   "id": "d549eed9-2b05-4210-998a-3966e5d9cc50",
   "metadata": {
    "scrolled": true
   },
   "outputs": [],
   "source": [
    "import cv2 as cv\n",
    "import numpy as np\n",
    "from keras.models import load_model\n",
    "from keras.models import model_from_json"
   ]
  },
  {
   "cell_type": "code",
   "execution_count": 71,
   "id": "438f1955-d022-4a28-b63f-ac4c8c54039e",
   "metadata": {},
   "outputs": [],
   "source": [
    "emotion_label = {0:\"Angry\",1:\"Disgusted\",2:\"Fear\",3:\"Happy\",4:\"Neutral\",5:\"Sad\",6:\"Surprise\"}"
   ]
  },
  {
   "cell_type": "markdown",
   "id": "590feb21-463c-4ba2-a88e-7566f56fcb41",
   "metadata": {},
   "source": [
    "# load json and load model  "
   ]
  },
  {
   "cell_type": "code",
   "execution_count": 72,
   "id": "b9bb4415-c64e-4718-a5dd-6cbabb41c4c6",
   "metadata": {
    "scrolled": true
   },
   "outputs": [],
   "source": [
    "json_file = open('emotion_model.json','r')\n",
    "loaded_model_json = json_file.read()\n",
    "json_file.close()\n",
    "emotion_model = model_from_json(loaded_model_json)"
   ]
  },
  {
   "cell_type": "markdown",
   "id": "b766e9a9-dd85-4c62-8547-2171bed0fa5d",
   "metadata": {},
   "source": [
    "# load weights into new model"
   ]
  },
  {
   "cell_type": "code",
   "execution_count": 73,
   "id": "fd2d94fd-6234-463c-8695-22cccc918899",
   "metadata": {},
   "outputs": [
    {
     "name": "stdout",
     "output_type": "stream",
     "text": [
      "Loaded model from disc\n"
     ]
    }
   ],
   "source": [
    "emotion_model.load_weights(\"emotion_model.h5\")\n",
    "print(\"Loaded model from disc\")"
   ]
  },
  {
   "cell_type": "code",
   "execution_count": 74,
   "id": "394f3079-3638-447d-917a-4b14de0f77c6",
   "metadata": {},
   "outputs": [],
   "source": [
    "# Define emotion labels\n",
    "emotion_labels = {\n",
    "    0: 'Angry',\n",
    "    1: 'Disgust',\n",
    "    2: 'Fear',\n",
    "    3: 'Happy',\n",
    "    4: 'Sad',\n",
    "    5: 'Surprise',\n",
    "    6: 'Neutral'\n",
    "}"
   ]
  },
  {
   "cell_type": "code",
   "execution_count": 75,
   "id": "0e94db09-732f-4de4-8d22-a88859af4920",
   "metadata": {},
   "outputs": [],
   "source": [
    "def process_image(image_path):\n",
    "    # Read the input image\n",
    "    image = cv2.imread(image_path, cv2.IMREAD_GRAYSCALE)\n",
    "\n",
    "    # Resize the image to match the input shape of your model\n",
    "    resized_image = cv2.resize(image, (48, 48))\n",
    "\n",
    "    # Normalize pixel values to be between 0 and 1\n",
    "    normalized_image = resized_image / 255.0\n",
    "\n",
    "    # Expand dimensions to make it compatible with the model input shape\n",
    "    input_data = np.expand_dims(np.expand_dims(normalized_image, axis=-1), axis=0)\n",
    "\n",
    "    # Make a prediction using your emotion model\n",
    "    predictions = emotion_model.predict(input_data)\n",
    "\n",
    "    # Get the predicted emotion label\n",
    "    emotion_label = np.argmax(predictions)\n",
    "\n",
    "    # Get the emotion name from the label\n",
    "    emotion_name = emotion_labels[emotion_label]\n",
    "\n",
    "    # Display the input image with the emotion label\n",
    "    cv2.putText(image, f'Emotion: {emotion_name}', (10, 30), cv2.FONT_HERSHEY_SIMPLEX, 1, (255, 0, 0), 2)\n",
    "    cv2.imshow('Emotion Detection', image)\n",
    "    cv2.waitKey(0)\n",
    "    cv2.destroyAllWindows()"
   ]
  },
  {
   "cell_type": "code",
   "execution_count": 76,
   "id": "0048b1e3-e265-4f99-8f7b-ecd8e64c6936",
   "metadata": {},
   "outputs": [
    {
     "name": "stdin",
     "output_type": "stream",
     "text": [
      "Enter the path of the image file:  200206110200-messi-angry-crop-super-tease.jpg\n"
     ]
    }
   ],
   "source": [
    "# Get user input for the image file path\n",
    "image_path = input(\"Enter the path of the image file: \")"
   ]
  },
  {
   "cell_type": "code",
   "execution_count": 77,
   "id": "b17dedf3-e8dd-49f6-b6e5-e3e2ccb17d40",
   "metadata": {},
   "outputs": [
    {
     "name": "stdout",
     "output_type": "stream",
     "text": [
      "1/1 [==============================] - 0s 143ms/step\n"
     ]
    }
   ],
   "source": [
    "# Process the input image\n",
    "import cv2\n",
    "process_image(image_path)"
   ]
  },
  {
   "cell_type": "code",
   "execution_count": 65,
   "id": "7a3dd526-526e-4bac-a1a1-0252f40c53b8",
   "metadata": {},
   "outputs": [
    {
     "name": "stdin",
     "output_type": "stream",
     "text": [
      "Press any key to close the program. '\n"
     ]
    },
    {
     "data": {
      "text/plain": [
       "\"'\""
      ]
     },
     "execution_count": 65,
     "metadata": {},
     "output_type": "execute_result"
    }
   ],
   "source": [
    "# Ask the user to press any key to close the program\n",
    "input(\"Press any key to close the program.\")"
   ]
  },
  {
   "cell_type": "code",
   "execution_count": null,
   "id": "f78057ae-6aab-437f-977b-7da77621e09d",
   "metadata": {},
   "outputs": [],
   "source": []
  }
 ],
 "metadata": {
  "kernelspec": {
   "display_name": "Python 3 (ipykernel)",
   "language": "python",
   "name": "python3"
  },
  "language_info": {
   "codemirror_mode": {
    "name": "ipython",
    "version": 3
   },
   "file_extension": ".py",
   "mimetype": "text/x-python",
   "name": "python",
   "nbconvert_exporter": "python",
   "pygments_lexer": "ipython3",
   "version": "3.11.5"
  }
 },
 "nbformat": 4,
 "nbformat_minor": 5
}
